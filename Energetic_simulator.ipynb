{
 "cells": [
  {
   "cell_type": "code",
   "execution_count": 1,
   "metadata": {
    "collapsed": true
   },
   "outputs": [],
   "source": [
    "import random"
   ]
  },
  {
   "cell_type": "code",
   "execution_count": 2,
   "metadata": {
    "collapsed": true
   },
   "outputs": [],
   "source": [
    "#Initialize 'start of game' parameters\n",
    "\n",
    "def reset_to_start():\n",
    "    global gw_total\n",
    "    global money\n",
    "    global pub_op\n",
    "    global grid_st\n",
    "\n",
    "\n",
    "    gw_total = [0]\n",
    "    money = [200]\n",
    "    pub_op = [5]\n",
    "    grid_st = [9]\n",
    "    year = [2021]\n",
    "    \n",
    "    #initialize player's empty 'hands'\n",
    "    global activist\n",
    "    global entrepreneur\n",
    "    global engineer\n",
    "    global politician\n",
    "    \n",
    "    activist = [0, 0, 0, 0, 0, \n",
    "                0, 0, 0, 0, 0, \n",
    "                0, 0, 0, 0, 0, \n",
    "                0, 0, 0, 0, 0]\n",
    "\n",
    "    entrepreneur = [0, 0, 0, 0, 0, \n",
    "                0, 0, 0, 0, 0, \n",
    "                0, 0, 0, 0, 0, \n",
    "                0, 0, 0, 0, 0]\n",
    "\n",
    "    engineer = [0, 0, 0, 0, 0, \n",
    "                0, 0, 0, 0, 0, \n",
    "                0, 0, 0, 0, 0, \n",
    "                0, 0, 0, 0, 0]\n",
    "\n",
    "    politician = [0, 0, 0, 0, 0, \n",
    "                0, 0, 0, 0, 0, \n",
    "                0, 0, 0, 0, 0, \n",
    "                0, 0, 0, 0, 0]\n",
    "    \n",
    "    global dealer \n",
    "    dealer = [8, 8, 9, 4, 6, \n",
    "              8, 0, 5, 3, 3, \n",
    "              4, 4, 4, 4, 4, \n",
    "              4, 1, 1, 1, 1]\n",
    "    \n",
    "    global money_effect \n",
    "    money_effect = 0\n",
    "    global gw_effect\n",
    "    gw_effect = 0\n",
    "    global grid_st_effect\n",
    "    grid_st_effect = 0\n",
    "    global pub_op_effect\n",
    "    pub_op_effect = 0\n",
    "    \n",
    "    #CREATE CARDS\n",
    "\n",
    "    #Cards = [GW, money, pub_op, grid_st]\n",
    "\n",
    "\n",
    "    solar = [0.25, -150, 1, 0,]\n",
    "    wind = [1, -400, -2, -4]\n",
    "    trans_line = [0, -200, -2, 0]\n",
    "    natgas_CCS = [1, -800, -4, 2]\n",
    "    nuclear = [1, -500, -6, 2]\n",
    "    pumped_hydro = [0, -500, -6, 4]\n",
    "    h2 = [0, -500, -4, 4]\n",
    "\n",
    "    #YELLOW\n",
    "    comm_outreach = [0, 0, 2, 0]\n",
    "    pub_delib = [0, 0, 2, 0]\n",
    "    investors = [0, 200, 0, 0]\n",
    "\n",
    "    #RESEARCH\n",
    "    CCS_research = [0, -100, 0, 0]\n",
    "    nuclear_research = [0, -50, 0, 0]\n",
    "    h2_research = [0, -50, 0, 0]\n",
    "    resiliency = [0, -100, 1, 0]\n",
    "\n",
    "    CCS_research_counter = 0\n",
    "    nuclear_research_counter = 0\n",
    "    h2_research_counter = 0\n",
    "    resiliency_counter = 0\n",
    "\n",
    "    #POLICIES\n",
    "    percent = [0, 0, -1, 0]\n",
    "    carbon_fee = [0, 0, -3, 0]\n",
    "\n",
    "    percent_counter = 0\n",
    "    carbon_counter = 0\n",
    "\n",
    "    #WILD\n",
    "\n",
    "    wild_build = [0,0,0,0]\n",
    "    wild_research = [0,0,0,0]\n",
    "    wild_policy = [0,0,0,0]\n",
    "    wild_yellow = [0,0,0,0]\n",
    "\n",
    "    # CREATE DECK\n",
    "\n",
    "    # with nested array of cards\n",
    "\n",
    "\n",
    "    cards = [solar, wind, trans_line, natgas_CCS, nuclear,\n",
    "            pumped_hydro, h2, comm_outreach, pub_delib, investors, \n",
    "            CCS_research, nuclear_research, h2_research, resiliency, percent,\n",
    "            carbon_fee, wild_build, wild_research, wild_policy, wild_yellow]"
   ]
  },
  {
   "cell_type": "code",
   "execution_count": 4,
   "metadata": {
    "collapsed": true
   },
   "outputs": [],
   "source": [
    "def define_rules():\n",
    "\n",
    "    #DISCARD \n",
    "    \n",
    "    def discard():\n",
    "        while sum(activist) > 2:\n",
    "            global temp\n",
    "            temp = random.randint(0,19)\n",
    "            while activist[temp] == 0:\n",
    "                temp = random.randint(0,19)\n",
    "            activist[temp] = activist[temp] - 1\n",
    "\n",
    "        while sum(politician) > 2:\n",
    "            temp = random.randint(0,19)\n",
    "            while politician[temp] == 0:\n",
    "                temp = random.randint(0,19)\n",
    "            politician[temp] = politician[temp] - 1\n",
    "\n",
    "        while sum(entrepreneur) > 2:\n",
    "            temp = random.randint(0,19)\n",
    "            while entrepreneur[temp] == 0:\n",
    "                temp = random.randint(0,19)\n",
    "            entrepreneur[temp] = entrepreneur[temp] - 1\n",
    "\n",
    "        while sum(engineer) > 2:\n",
    "            temp = random.randint(0,19)\n",
    "            while engineer[temp] == 0:\n",
    "                temp = random.randint(0,19)\n",
    "            engineer[temp] = engineer[temp] - 1\n",
    "    \n",
    "    #REFILL DEALER'S HAND\n",
    "    \n",
    "    def replenish_dealer():\n",
    "        global dealer\n",
    "        if sum(dealer) == 0:\n",
    "            dealer = [8, 8, 9, 4, 6, \n",
    "                    8, 0, 5, 3, 3, \n",
    "                    4, 4, 4, 4, 4, \n",
    "                    4, 1, 1, 1, 1]\n",
    "            for i in range(0,20):\n",
    "                dealer[i] = dealer[i] - activist[i] - politician[i] - entrepreneur[i] - engineer[i]\n",
    "    \n",
    "    \n",
    "    # DRAW CARD: add card to each hand, checks if need to replenish dealer each time\n",
    "    \n",
    "    def draw_cards():\n",
    "        \n",
    "        for i in range(0,2):\n",
    "            \n",
    "            replenish_dealer()\n",
    "            \n",
    "            temp = random.randint(0,19)\n",
    "            while dealer[temp] == 0:\n",
    "                temp = random.randint(0,19)\n",
    "            activist[temp] = activist[temp] + 1\n",
    "            dealer[temp] = dealer[temp] - 1\n",
    "            \n",
    "\n",
    "        # Politician CARDS\n",
    "\n",
    "\n",
    "            replenish_dealer()\n",
    "\n",
    "            temp = random.randint(0,19)\n",
    "            while dealer[temp] == 0:\n",
    "                temp = random.randint(0,19)\n",
    "            politician[temp] = politician[temp] + 1\n",
    "            dealer[temp] = dealer[temp] - 1\n",
    "\n",
    "\n",
    "        # Entrepreneur CARDS\n",
    "\n",
    "            replenish_dealer()\n",
    "            \n",
    "            temp = random.randint(0,19)\n",
    "            while dealer[temp] == 0:\n",
    "                temp = random.randint(0,19)\n",
    "            entrepreneur[temp] = entrepreneur[temp] + 1\n",
    "            dealer[temp] = dealer[temp] - 1\n",
    "            \n",
    "\n",
    "        # Engineer CARDS\n",
    "\n",
    "            replenish_dealer()\n",
    "        \n",
    "            temp = random.randint(0,19)\n",
    "            while dealer[temp] == 0:\n",
    "                temp = random.randint(0,19)\n",
    "            engineer[temp] = engineer[temp] + 1\n",
    "            dealer[temp] = dealer[temp] - 1\n",
    "    \n",
    "    #PLAY A CARD: add effects to temp variable, subtract card from hand\n",
    "    \n",
    "    def play_card(player, card_numb):\n",
    "        global money_effect\n",
    "        global pub_op_effect\n",
    "        global grid_st_effect\n",
    "        global gw_effect\n",
    "\n",
    "        money_effect = money_effect + cards[card_numb][1]\n",
    "        pub_op_effect = pub_op_effect + cards[card_numb][2]\n",
    "        grid_st_effect = grid_st_effect + cards[card_numb][3]\n",
    "        gw_effect = gw_effect + cards[card_numb][0]\n",
    "\n",
    "\n",
    "        #and lose card\n",
    "        player[card_numb] = player[card_numb] - 1\n",
    "    \n",
    "    #CHECK IF PLAYABLE: see if card's requirements are possible with current pub op, grid st, money\n",
    "    \n",
    "    def check_if_playable(card_numb):\n",
    "        if (cards[card_numb][1])*-1 <= (money[-1] + money_effect):\n",
    "            if (cards[card_numb][2])*-1 < (pub_op[-1] + pub_op_effect):\n",
    "                if cards[card_numb][3] < (grid_st[-1] + grid_st_effect):\n",
    "                    return True\n",
    "        else:\n",
    "            return False\n",
    "    \n",
    "    \n",
    "    #FIND CARD IN HAND:\n",
    "    #Chooses random number until it finds a card player has, returns that number\n",
    "\n",
    "    def find_card_in_hand(player):\n",
    "        if sum(player) == 0:\n",
    "            print 'Empty hand'\n",
    "        else:\n",
    "            temp = random.randint(0,19)\n",
    "            while player[temp] == 0:\n",
    "                temp = random.randint(0,19)\n",
    "            return temp\n",
    "\n",
    "    # TELL CARDS: say what is in each player's hand\n",
    "    \n",
    "    def tell_cards(player):\n",
    "    \n",
    "        if player == activist:\n",
    "            print 'Activist\\'s cards'\n",
    "        elif player == entrepreneur:\n",
    "            print 'Entrepreneur\\'s cards'\n",
    "        elif player == politician:\n",
    "            print 'Politician\\'s cards'\n",
    "        elif player == engineer:\n",
    "            print 'Engineer\\'s cards'\n",
    "\n",
    "        if player[0] != 0:\n",
    "            print str(player[0]) + ' solar'\n",
    "        if player[1] != 0:\n",
    "            print str(player[1]) + ' wind'\n",
    "        if player[2] != 0:\n",
    "            print str(player[2]) + ' transmission line'\n",
    "        if player[3] != 0:\n",
    "            print str(player[3]) + ' natural gas with CCS'\n",
    "        if player[4] != 0:\n",
    "            print str(player[4]) + ' nuclear' \n",
    "        if player[5] != 0:\n",
    "            print str(player[5]) + ' pumped hydro'\n",
    "        if player[6] != 0:\n",
    "            print str(player[6]) + ' H2'\n",
    "        if player[7] != 0:\n",
    "            print str(player[7]) + ' community outreach'\n",
    "        if player[8] != 0:\n",
    "            print str(player[8]) + ' public deliberation'\n",
    "        if player[9] != 0:\n",
    "            print str(player[9]) + ' investors'\n",
    "        if player[10] != 0:\n",
    "            print str(player[10]) + ' CCS research'\n",
    "        if player[11] != 0:\n",
    "            print str(player[11]) + ' nuclear research'\n",
    "        if player[12] != 0:\n",
    "            print str(player[12]) + ' H2 research'\n",
    "        if player[13] != 0:\n",
    "            print str(player[13]) + ' resiliency'\n",
    "        if player[14] != 0:\n",
    "            print str(player[14]) + ' percent for climate'\n",
    "        if player[15] != 0:\n",
    "            print str(player[15]) + ' carbon fee'\n",
    "        if player[16] != 0:\n",
    "            print str(player[16]) + ' Build wildcard'\n",
    "        if player[17] != 0:\n",
    "            print str(player[17]) + ' Research wildcard'\n",
    "        if player[18] != 0:\n",
    "            print str(player[18]) + ' Policy wildcard'\n",
    "        if player[19] != 0:\n",
    "            print str(player[19]) + ' Yellow wildcard'\n",
    "        print '\\n'\n",
    "        \n",
    "    #ADD EFFECTS OF TURN: add aggregated turn effects to gw, pub op, grid st\n",
    "    \n",
    "    def add_effects_of_turn(gw_turn, money_turn, pub_op_turn, grid_st_turn):\n",
    "        gw_total.append(gw_total[-1] + gw_turn)\n",
    "\n",
    "        money.append(money[-1] + money_turn)\n",
    "\n",
    "        if pub_op[-1] + pub_op_turn > 10:\n",
    "            pub_op.append(10)\n",
    "        else:\n",
    "            pub_op.append(pub_op[-1] + pub_op_turn)\n",
    "\n",
    "\n",
    "        if grid_st[-1] + grid_st_turn > 10:\n",
    "            grid_st.append(10)\n",
    "        else:\n",
    "            grid_st.append(grid_st[-1] + grid_st_turn)\n",
    "    \n",
    "    def tell_everyone():\n",
    "        tell_cards(activist)\n",
    "        tell_cards(entrepreneur)\n",
    "        tell_cards(engineer)\n",
    "        tell_cards(politician)\n",
    "    \n",
    "    def tell_stats():\n",
    "        print 'GW: ' + gw_total\n",
    "        print 'Money: ' + money\n",
    "        print 'Grid Stability: ' + grid_st\n",
    "        print 'Public Opinion: ' + pub_op"
   ]
  },
  {
   "cell_type": "code",
   "execution_count": 5,
   "metadata": {
    "collapsed": false
   },
   "outputs": [],
   "source": [
    "#reset_to_start()\n",
    "define_rules()"
   ]
  },
  {
   "cell_type": "code",
   "execution_count": 8,
   "metadata": {
    "collapsed": false
   },
   "outputs": [],
   "source": [
    "#Research complete\n",
    "\n",
    "#h2_research_counter = 4\n",
    "\n",
    "#HYDROGEN RESEARCH IS COMPLETED (pumped hydro becomes H2 storage, all research cards removed from deck)\n",
    "    \n",
    "if h2_research_counter == 4:\n",
    "    dealer[6] = dealer[5]\n",
    "    dealer_total[6] = dealer_total[5]\n",
    "   \n",
    "    dealer[5] = 0\n",
    "    dealer_total[5] = 0\n",
    "    \n",
    "    dealer[12] = 0\n",
    "    dealer_total[12] = 0\n",
    "    \n",
    "#NUCLEAR RESEARCH COMPLETED (research cards removed from deck)\n",
    "if nuclear_research_counter == 4:\n",
    "    dealer[11] = 0\n",
    "    dealer_total[11] = 0\n",
    "    \n",
    "#NATURAL GAS WITH CCS COMPLETED (research cards removed from deck)\n",
    "if CCS_research_counter == 4:\n",
    "    dealer[10] = 0\n",
    "    dealer_total[10] = 0"
   ]
  },
  {
   "cell_type": "code",
   "execution_count": 106,
   "metadata": {
    "collapsed": false
   },
   "outputs": [],
   "source": [
    "card_temp = find_card_in_hand(activist)\n",
    "if check_if_playable(card_temp):\n",
    "    play_card(activist, card_temp)"
   ]
  },
  {
   "cell_type": "code",
   "execution_count": 47,
   "metadata": {
    "collapsed": true
   },
   "outputs": [],
   "source": [
    "draw_cards()"
   ]
  },
  {
   "cell_type": "code",
   "execution_count": 48,
   "metadata": {
    "collapsed": true
   },
   "outputs": [],
   "source": [
    "def tell_everyone():\n",
    "    tell_cards(activist)\n",
    "    tell_cards(entrepreneur)\n",
    "    tell_cards(engineer)\n",
    "    tell_cards(politician)"
   ]
  },
  {
   "cell_type": "code",
   "execution_count": 49,
   "metadata": {
    "collapsed": false
   },
   "outputs": [
    {
     "name": "stdout",
     "output_type": "stream",
     "text": [
      "Activist's cards\n",
      "1 solar\n",
      "1 wind\n",
      "\n",
      "\n",
      "Entrepreneur's cards\n",
      "1 public deliberation\n",
      "1 Build wildcard\n",
      "\n",
      "\n",
      "Engineer's cards\n",
      "1 H2 research\n",
      "1 Policy wildcard\n",
      "\n",
      "\n",
      "Politician's cards\n",
      "1 solar\n",
      "1 percent for climate\n",
      "\n",
      "\n"
     ]
    }
   ],
   "source": [
    "tell_everyone()"
   ]
  },
  {
   "cell_type": "code",
   "execution_count": 51,
   "metadata": {
    "collapsed": true
   },
   "outputs": [],
   "source": [
    "card_temp = find_card_in_hand(activist)\n",
    "if check_if_playable(card_temp):\n",
    "    play_card(activist, card_temp)"
   ]
  },
  {
   "cell_type": "code",
   "execution_count": 55,
   "metadata": {
    "collapsed": false
   },
   "outputs": [],
   "source": [
    "add_effects_of_turn(gw_effect, money_effect, pub_op_effect, grid_st_effect)"
   ]
  },
  {
   "cell_type": "code",
   "execution_count": 61,
   "metadata": {
    "collapsed": false
   },
   "outputs": [
    {
     "name": "stdout",
     "output_type": "stream",
     "text": [
      "[0, 0.25]\n",
      "[200, 50]\n",
      "[9, 9]\n",
      "[5, 6]\n"
     ]
    }
   ],
   "source": [
    "print gw_total\n",
    "print money\n",
    "print grid_st\n",
    "print pub_op"
   ]
  },
  {
   "cell_type": "code",
   "execution_count": null,
   "metadata": {
    "collapsed": true
   },
   "outputs": [],
   "source": [
    "'''\n",
    "To Do:\n",
    "\n",
    "Figure out wildcards\n",
    "Figure out transmission lines\n",
    "Decide on how often people play cards (50% of the time that they can? 75%?)\n",
    "\n",
    "\n",
    "'''"
   ]
  },
  {
   "cell_type": "code",
   "execution_count": 6,
   "metadata": {
    "collapsed": false
   },
   "outputs": [
    {
     "ename": "NameError",
     "evalue": "name 'draw_cards' is not defined",
     "output_type": "error",
     "traceback": [
      "\u001b[0;31m---------------------------------------------------------------------------\u001b[0m",
      "\u001b[0;31mNameError\u001b[0m                                 Traceback (most recent call last)",
      "\u001b[0;32m<ipython-input-6-5630e3eadba9>\u001b[0m in \u001b[0;36m<module>\u001b[0;34m()\u001b[0m\n\u001b[1;32m      1\u001b[0m \u001b[0;32mfor\u001b[0m \u001b[0mi\u001b[0m \u001b[0;32min\u001b[0m \u001b[0mrange\u001b[0m\u001b[0;34m(\u001b[0m\u001b[0;36m2021\u001b[0m\u001b[0;34m,\u001b[0m \u001b[0;36m2050\u001b[0m\u001b[0;34m)\u001b[0m\u001b[0;34m:\u001b[0m\u001b[0;34m\u001b[0m\u001b[0m\n\u001b[0;32m----> 2\u001b[0;31m     \u001b[0mdraw_cards\u001b[0m\u001b[0;34m(\u001b[0m\u001b[0;34m)\u001b[0m\u001b[0;34m\u001b[0m\u001b[0m\n\u001b[0m\u001b[1;32m      3\u001b[0m \u001b[0;34m\u001b[0m\u001b[0m\n\u001b[1;32m      4\u001b[0m     \u001b[0;31m#activist\u001b[0m\u001b[0;34m\u001b[0m\u001b[0;34m\u001b[0m\u001b[0m\n\u001b[1;32m      5\u001b[0m     \u001b[0mcard_temp\u001b[0m \u001b[0;34m=\u001b[0m \u001b[0mfind_card_in_hand\u001b[0m\u001b[0;34m(\u001b[0m\u001b[0mactivist\u001b[0m\u001b[0;34m)\u001b[0m\u001b[0;34m\u001b[0m\u001b[0m\n",
      "\u001b[0;31mNameError\u001b[0m: name 'draw_cards' is not defined"
     ]
    }
   ],
   "source": [
    "for i in range(2021, 2050):\n",
    "    draw_cards()\n",
    "\n",
    "    #activist\n",
    "    card_temp = find_card_in_hand(activist)\n",
    "    if check_if_playable(card_temp):\n",
    "        play_card(activist, card_temp)\n",
    "        \n",
    "    #entrepreneur\n",
    "    card_temp = find_card_in_hand(entrepreneur)\n",
    "    if check_if_playable(card_temp):\n",
    "        play_card(entrepreneur, card_temp)\n",
    "        \n",
    "    #politician\n",
    "    card_temp = find_card_in_hand(politician)\n",
    "    if check_if_playable(card_temp):\n",
    "        play_card(politician, card_temp)\n",
    "        \n",
    "    #engineer\n",
    "    card_temp = find_card_in_hand(engineer)\n",
    "    if check_if_playable(card_temp):\n",
    "        play_card(engineer, card_temp)\n",
    "        \n",
    "    add_effects_of_turn(gw_effect, money_effect + 200, pub_op_effect, grid_st_effect)\n",
    "    \n",
    "    discard()"
   ]
  },
  {
   "cell_type": "code",
   "execution_count": 7,
   "metadata": {
    "collapsed": false
   },
   "outputs": [
    {
     "ename": "NameError",
     "evalue": "name 'grid_st' is not defined",
     "output_type": "error",
     "traceback": [
      "\u001b[0;31m---------------------------------------------------------------------------\u001b[0m",
      "\u001b[0;31mNameError\u001b[0m                                 Traceback (most recent call last)",
      "\u001b[0;32m<ipython-input-7-b3550a17f31e>\u001b[0m in \u001b[0;36m<module>\u001b[0;34m()\u001b[0m\n\u001b[0;32m----> 1\u001b[0;31m \u001b[0mgrid_st\u001b[0m\u001b[0;34m\u001b[0m\u001b[0m\n\u001b[0m",
      "\u001b[0;31mNameError\u001b[0m: name 'grid_st' is not defined"
     ]
    }
   ],
   "source": [
    "grid_st"
   ]
  },
  {
   "cell_type": "code",
   "execution_count": null,
   "metadata": {
    "collapsed": true
   },
   "outputs": [],
   "source": []
  }
 ],
 "metadata": {
  "kernelspec": {
   "display_name": "Python 2",
   "language": "python",
   "name": "python2"
  },
  "language_info": {
   "codemirror_mode": {
    "name": "ipython",
    "version": 2
   },
   "file_extension": ".py",
   "mimetype": "text/x-python",
   "name": "python",
   "nbconvert_exporter": "python",
   "pygments_lexer": "ipython2",
   "version": "2.7.13"
  }
 },
 "nbformat": 4,
 "nbformat_minor": 0
}
